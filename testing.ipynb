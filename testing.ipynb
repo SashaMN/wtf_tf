{
 "cells": [
  {
   "cell_type": "code",
   "execution_count": 1,
   "metadata": {},
   "outputs": [
    {
     "name": "stderr",
     "output_type": "stream",
     "text": [
      "Using TensorFlow backend.\n"
     ]
    }
   ],
   "source": [
    "import numpy as np\n",
    "import tensorflow as tf\n",
    "import keras\n",
    "import keras.layers as L\n",
    "import keras.backend as K"
   ]
  },
  {
   "cell_type": "code",
   "execution_count": 2,
   "metadata": {},
   "outputs": [],
   "source": [
    "X_train = np.arange(6).reshape(3, 2)\n",
    "y_train = np.arange(3)\n",
    "X_val = X_train\n",
    "y_val = y_train"
   ]
  },
  {
   "cell_type": "code",
   "execution_count": 3,
   "metadata": {},
   "outputs": [],
   "source": [
    "def get_model(inp):\n",
    "    return L.Dense(1)(inp)"
   ]
  },
  {
   "cell_type": "code",
   "execution_count": 9,
   "metadata": {},
   "outputs": [
    {
     "name": "stdout",
     "output_type": "stream",
     "text": [
      "[0.99987423 0.78759944]\n",
      "[0.9991301 0.7868553]\n"
     ]
    }
   ],
   "source": [
    "K.clear_session()\n",
    "np.random.seed(5)\n",
    "tf.set_random_seed(5)\n",
    "inp = L.Input((2,), dtype='float32')\n",
    "out = get_model(inp)\n",
    "model = keras.models.Model(inputs=[inp], outputs=[out])\n",
    "model.compile(optimizer=keras.optimizers.Adam(epsilon=1e-8), loss='mean_squared_error')\n",
    "sess = K.get_session()\n",
    "for i in range(1):\n",
    "    print(sess.run(sess.graph.get_operation_by_name('dense_1/kernel').outputs)[0].T[0])\n",
    "    model.fit(X_train, y_train, validation_data=(X_val, y_val), verbose=0)\n",
    "print(sess.run(sess.graph.get_operation_by_name('dense_1/kernel').outputs)[0].T[0])"
   ]
  },
  {
   "cell_type": "code",
   "execution_count": 8,
   "metadata": {
    "scrolled": true
   },
   "outputs": [
    {
     "name": "stdout",
     "output_type": "stream",
     "text": [
      "[0.99987423 0.78759944]\n",
      "[0.99887425 0.78659946]\n"
     ]
    }
   ],
   "source": [
    "tf.reset_default_graph()\n",
    "sess = tf.Session()\n",
    "K.set_session(sess)\n",
    "np.random.seed(5)\n",
    "tf.set_random_seed(5)\n",
    "inp = tf.placeholder('float32', [None, 2])\n",
    "ref_answers = tf.placeholder('float32', [None])\n",
    "model = get_model(inp)[:, 0]\n",
    "loss = tf.losses.mean_squared_error(ref_answers, model)\n",
    "train_step = tf.train.AdamOptimizer().minimize(loss)\n",
    "sess.run(tf.global_variables_initializer())\n",
    "for i in range(1):\n",
    "    print(sess.run(sess.graph.get_operation_by_name('dense_1/kernel').outputs)[0].T[0])\n",
    "    loss_i, _ = sess.run([loss, train_step], feed_dict={inp:X_train, ref_answers: y_train, K.learning_phase(): 0})\n",
    "print(sess.run(sess.graph.get_operation_by_name('dense_1/kernel').outputs)[0].T[0])"
   ]
  },
  {
   "cell_type": "code",
   "execution_count": null,
   "metadata": {},
   "outputs": [],
   "source": []
  }
 ],
 "metadata": {
  "kernelspec": {
   "display_name": "Python 3",
   "language": "python",
   "name": "python3"
  },
  "language_info": {
   "codemirror_mode": {
    "name": "ipython",
    "version": 3
   },
   "file_extension": ".py",
   "mimetype": "text/x-python",
   "name": "python",
   "nbconvert_exporter": "python",
   "pygments_lexer": "ipython3",
   "version": "3.6.7"
  }
 },
 "nbformat": 4,
 "nbformat_minor": 2
}
