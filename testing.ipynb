{
 "cells": [
  {
   "cell_type": "code",
   "execution_count": 1,
   "metadata": {},
   "outputs": [
    {
     "name": "stderr",
     "output_type": "stream",
     "text": [
      "Using TensorFlow backend.\n"
     ]
    }
   ],
   "source": [
    "import numpy as np\n",
    "import tensorflow as tf\n",
    "import keras\n",
    "import keras.layers as L\n",
    "import keras.backend as K"
   ]
  },
  {
   "cell_type": "code",
   "execution_count": 2,
   "metadata": {},
   "outputs": [
    {
     "name": "stdout",
     "output_type": "stream",
     "text": [
      "2.2.4\n",
      "1.10.1\n"
     ]
    }
   ],
   "source": [
    "print(keras.__version__)\n",
    "print(tf.__version__)"
   ]
  },
  {
   "cell_type": "code",
   "execution_count": 3,
   "metadata": {},
   "outputs": [],
   "source": [
    "X_train = np.arange(6).reshape(3, 2)\n",
    "y_train = np.arange(3)"
   ]
  },
  {
   "cell_type": "code",
   "execution_count": 4,
   "metadata": {},
   "outputs": [],
   "source": [
    "def get_model(inp):\n",
    "    return L.Dense(1, use_bias=False)(inp)\n",
    "\n",
    "def print_weights():\n",
    "    print(sess.run(sess.graph.get_operation_by_name('dense_1/kernel').outputs)[0].T[0])"
   ]
  },
  {
   "cell_type": "markdown",
   "metadata": {},
   "source": [
    "Using keras fit"
   ]
  },
  {
   "cell_type": "code",
   "execution_count": 5,
   "metadata": {},
   "outputs": [
    {
     "name": "stdout",
     "output_type": "stream",
     "text": [
      "[0.99987423 0.78759944]\n",
      "[0.9991301 0.7868553]\n",
      "[0.99827164 0.78599685]\n",
      "[0.997362  0.7850872]\n",
      "[0.9964235 0.7841487]\n",
      "[0.9954666 0.7831918]\n",
      "[0.9944971  0.78222233]\n",
      "[0.99351865 0.78124386]\n",
      "[0.9925335 0.7802587]\n",
      "[0.99154335 0.7792685 ]\n",
      "[0.99054927 0.7782744 ]\n"
     ]
    }
   ],
   "source": [
    "K.clear_session()\n",
    "np.random.seed(5)\n",
    "tf.set_random_seed(5)\n",
    "inp = L.Input((2,), dtype='float32')\n",
    "out = get_model(inp)\n",
    "model = keras.models.Model(inputs=[inp], outputs=[out])\n",
    "model.compile(optimizer=keras.optimizers.Adam(epsilon=1e-8), loss='mean_squared_error')\n",
    "sess = K.get_session()\n",
    "for i in range(10):\n",
    "    print_weights()\n",
    "    model.fit(X_train, y_train, verbose=0)\n",
    "print_weights()"
   ]
  },
  {
   "cell_type": "markdown",
   "metadata": {},
   "source": [
    "Using keras model + sess.run"
   ]
  },
  {
   "cell_type": "code",
   "execution_count": 6,
   "metadata": {
    "scrolled": true
   },
   "outputs": [
    {
     "name": "stdout",
     "output_type": "stream",
     "text": [
      "[0.99987423 0.78759944]\n",
      "[0.99887425 0.78659946]\n",
      "[0.9978743 0.7855995]\n",
      "[0.99687445 0.78459966]\n",
      "[0.99587464 0.78359985]\n",
      "[0.99487495 0.78260016]\n",
      "[0.99387544 0.78160065]\n",
      "[0.99287605 0.78060126]\n",
      "[0.9918769 0.7796021]\n",
      "[0.9908779  0.77860314]\n",
      "[0.9898792 0.7776044]\n"
     ]
    }
   ],
   "source": [
    "tf.reset_default_graph()\n",
    "sess = tf.Session()\n",
    "K.set_session(sess)\n",
    "np.random.seed(5)\n",
    "tf.set_random_seed(5)\n",
    "inp = tf.placeholder('float32', [None, 2])\n",
    "ref_answers = tf.placeholder('float32', [None])\n",
    "model = get_model(inp)[:, 0]\n",
    "loss = tf.losses.mean_squared_error(ref_answers, model)\n",
    "train_step = tf.train.AdamOptimizer().minimize(loss)\n",
    "sess.run(tf.global_variables_initializer())\n",
    "for i in range(10):\n",
    "    print_weights()\n",
    "    _ = sess.run([train_step], feed_dict={inp:X_train, ref_answers: y_train})\n",
    "print_weights()"
   ]
  },
  {
   "cell_type": "markdown",
   "metadata": {},
   "source": [
    "Using pure tensorflow"
   ]
  },
  {
   "cell_type": "code",
   "execution_count": 7,
   "metadata": {},
   "outputs": [
    {
     "name": "stdout",
     "output_type": "stream",
     "text": [
      "[0.99987423 0.78759944]\n",
      "[0.99887425 0.78659946]\n",
      "[0.9978743 0.7855995]\n",
      "[0.99687445 0.78459966]\n",
      "[0.99587464 0.78359985]\n",
      "[0.99487495 0.78260016]\n",
      "[0.99387544 0.78160065]\n",
      "[0.99287605 0.78060126]\n",
      "[0.9918769 0.7796021]\n",
      "[0.9908779  0.77860314]\n",
      "[0.9898792 0.7776044]\n"
     ]
    }
   ],
   "source": [
    "tf.reset_default_graph()\n",
    "sess = tf.Session()\n",
    "inp = tf.placeholder('float32', [None, 2])\n",
    "W = tf.Variable(initial_value=np.array([0.99987423, 0.78759944]).reshape(2, -1), dtype='float32')\n",
    "out = tf.matmul(inp, W)[:, 0]\n",
    "ref_answers = tf.placeholder('float32', [None])\n",
    "loss = tf.losses.mean_squared_error(ref_answers, out)\n",
    "train_step = tf.train.AdamOptimizer().minimize(loss)\n",
    "sess.run(tf.global_variables_initializer())\n",
    "for i in range(10):\n",
    "    print(sess.run(W).T[0])\n",
    "    _ = sess.run([train_step], feed_dict={inp:X_train, ref_answers: y_train})\n",
    "print(sess.run(W).T[0])"
   ]
  }
 ],
 "metadata": {
  "kernelspec": {
   "display_name": "Python 3",
   "language": "python",
   "name": "python3"
  },
  "language_info": {
   "codemirror_mode": {
    "name": "ipython",
    "version": 3
   },
   "file_extension": ".py",
   "mimetype": "text/x-python",
   "name": "python",
   "nbconvert_exporter": "python",
   "pygments_lexer": "ipython3",
   "version": "3.6.7"
  }
 },
 "nbformat": 4,
 "nbformat_minor": 2
}
